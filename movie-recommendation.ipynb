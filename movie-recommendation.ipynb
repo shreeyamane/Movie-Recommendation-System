{
 "cells": [
  {
   "cell_type": "code",
   "execution_count": 1,
   "id": "3681e69b",
   "metadata": {
    "execution": {
     "iopub.execute_input": "2025-01-06T14:08:52.804943Z",
     "iopub.status.busy": "2025-01-06T14:08:52.804589Z",
     "iopub.status.idle": "2025-01-06T14:08:54.917669Z",
     "shell.execute_reply": "2025-01-06T14:08:54.916710Z"
    },
    "papermill": {
     "duration": 2.120062,
     "end_time": "2025-01-06T14:08:54.919283",
     "exception": false,
     "start_time": "2025-01-06T14:08:52.799221",
     "status": "completed"
    },
    "tags": []
   },
   "outputs": [],
   "source": [
    "# Core Libraries\n",
    "import pandas as pd\n",
    "import numpy as np\n",
    "\n",
    "# For Collaborative Filtering\n",
    "from surprise import Dataset, Reader, SVD\n",
    "from surprise.model_selection import train_test_split, cross_validate\n",
    "from surprise.accuracy import rmse\n",
    "\n",
    "# For Content-Based Filtering\n",
    "from sklearn.feature_extraction.text import TfidfVectorizer\n",
    "from sklearn.metrics.pairwise import cosine_similarity\n",
    "\n",
    "# Visualization (optional)\n",
    "import matplotlib.pyplot as plt\n",
    "import seaborn as sns\n"
   ]
  },
  {
   "cell_type": "code",
   "execution_count": 2,
   "id": "dce17864",
   "metadata": {
    "execution": {
     "iopub.execute_input": "2025-01-06T14:08:54.926872Z",
     "iopub.status.busy": "2025-01-06T14:08:54.926561Z",
     "iopub.status.idle": "2025-01-06T14:09:15.702052Z",
     "shell.execute_reply": "2025-01-06T14:09:15.700959Z"
    },
    "papermill": {
     "duration": 20.780695,
     "end_time": "2025-01-06T14:09:15.703617",
     "exception": false,
     "start_time": "2025-01-06T14:08:54.922922",
     "status": "completed"
    },
    "tags": []
   },
   "outputs": [
    {
     "name": "stdout",
     "output_type": "stream",
     "text": [
      "Movies Dataset:\n",
      "   movieId                               title  \\\n",
      "0        1                    Toy Story (1995)   \n",
      "1        2                      Jumanji (1995)   \n",
      "2        3             Grumpier Old Men (1995)   \n",
      "3        4            Waiting to Exhale (1995)   \n",
      "4        5  Father of the Bride Part II (1995)   \n",
      "\n",
      "                                        genres  \n",
      "0  Adventure|Animation|Children|Comedy|Fantasy  \n",
      "1                   Adventure|Children|Fantasy  \n",
      "2                               Comedy|Romance  \n",
      "3                         Comedy|Drama|Romance  \n",
      "4                                       Comedy  \n",
      "\n",
      "Ratings Dataset:\n",
      "   userId  movieId  rating            timestamp\n",
      "0       1        2     3.5  2005-04-02 23:53:47\n",
      "1       1       29     3.5  2005-04-02 23:31:16\n",
      "2       1       32     3.5  2005-04-02 23:33:39\n",
      "3       1       47     3.5  2005-04-02 23:32:07\n",
      "4       1       50     3.5  2005-04-02 23:29:40\n"
     ]
    }
   ],
   "source": [
    "# Load movies and ratings datasets\n",
    "movies = pd.read_csv('/kaggle/input/movielens-20m-dataset/movie.csv')\n",
    "ratings = pd.read_csv('/kaggle/input/movielens-20m-dataset/rating.csv')\n",
    "\n",
    "# Preview datasets\n",
    "print(\"Movies Dataset:\")\n",
    "print(movies.head())\n",
    "print(\"\\nRatings Dataset:\")\n",
    "print(ratings.head())\n"
   ]
  },
  {
   "cell_type": "code",
   "execution_count": 3,
   "id": "b988088c",
   "metadata": {
    "execution": {
     "iopub.execute_input": "2025-01-06T14:09:15.712230Z",
     "iopub.status.busy": "2025-01-06T14:09:15.711872Z",
     "iopub.status.idle": "2025-01-06T14:09:15.736705Z",
     "shell.execute_reply": "2025-01-06T14:09:15.735631Z"
    },
    "papermill": {
     "duration": 0.030734,
     "end_time": "2025-01-06T14:09:15.738122",
     "exception": false,
     "start_time": "2025-01-06T14:09:15.707388",
     "status": "completed"
    },
    "tags": []
   },
   "outputs": [
    {
     "name": "stdout",
     "output_type": "stream",
     "text": [
      "   movieId                               title  \\\n",
      "0        1                    Toy Story (1995)   \n",
      "1        2                      Jumanji (1995)   \n",
      "2        3             Grumpier Old Men (1995)   \n",
      "3        4            Waiting to Exhale (1995)   \n",
      "4        5  Father of the Bride Part II (1995)   \n",
      "\n",
      "                                        genres  \n",
      "0  Adventure Animation Children Comedy Fantasy  \n",
      "1                   Adventure Children Fantasy  \n",
      "2                               Comedy Romance  \n",
      "3                         Comedy Drama Romance  \n",
      "4                                       Comedy  \n"
     ]
    }
   ],
   "source": [
    "\n",
    "# Select only the required columns\n",
    "movies = movies[['movieId', 'title', 'genres']]\n",
    "\n",
    "# Replace '|' in genres with spaces for easier processing\n",
    "movies['genres'] = movies['genres'].fillna('unknown').str.replace('|', ' ')\n",
    "\n",
    "# Preview the updated movies dataset\n",
    "print(movies.head())\n"
   ]
  },
  {
   "cell_type": "code",
   "execution_count": 4,
   "id": "076c69c4",
   "metadata": {
    "execution": {
     "iopub.execute_input": "2025-01-06T14:09:15.745790Z",
     "iopub.status.busy": "2025-01-06T14:09:15.745534Z",
     "iopub.status.idle": "2025-01-06T14:09:20.655475Z",
     "shell.execute_reply": "2025-01-06T14:09:20.654251Z"
    },
    "papermill": {
     "duration": 4.915281,
     "end_time": "2025-01-06T14:09:20.656857",
     "exception": false,
     "start_time": "2025-01-06T14:09:15.741576",
     "status": "completed"
    },
    "tags": []
   },
   "outputs": [
    {
     "name": "stdout",
     "output_type": "stream",
     "text": [
      "Merged Ratings Dataset:\n",
      "   userId  movieId  rating            timestamp  \\\n",
      "0       1        2     3.5  2005-04-02 23:53:47   \n",
      "1       1       29     3.5  2005-04-02 23:31:16   \n",
      "2       1       32     3.5  2005-04-02 23:33:39   \n",
      "3       1       47     3.5  2005-04-02 23:32:07   \n",
      "4       1       50     3.5  2005-04-02 23:29:40   \n",
      "\n",
      "                                               title  \\\n",
      "0                                     Jumanji (1995)   \n",
      "1  City of Lost Children, The (Cité des enfants p...   \n",
      "2          Twelve Monkeys (a.k.a. 12 Monkeys) (1995)   \n",
      "3                        Seven (a.k.a. Se7en) (1995)   \n",
      "4                         Usual Suspects, The (1995)   \n",
      "\n",
      "                                   genres  \n",
      "0              Adventure Children Fantasy  \n",
      "1  Adventure Drama Fantasy Mystery Sci-Fi  \n",
      "2                 Mystery Sci-Fi Thriller  \n",
      "3                        Mystery Thriller  \n",
      "4                  Crime Mystery Thriller  \n"
     ]
    }
   ],
   "source": [
    "# Merge the ratings dataset with movies\n",
    "ratings = ratings.merge(movies, on='movieId', how='left')\n",
    "\n",
    "# Preview the merged dataset\n",
    "print(\"Merged Ratings Dataset:\")\n",
    "print(ratings.head())\n"
   ]
  },
  {
   "cell_type": "code",
   "execution_count": 5,
   "id": "d39add57",
   "metadata": {
    "execution": {
     "iopub.execute_input": "2025-01-06T14:09:20.664759Z",
     "iopub.status.busy": "2025-01-06T14:09:20.664535Z",
     "iopub.status.idle": "2025-01-06T14:09:36.375447Z",
     "shell.execute_reply": "2025-01-06T14:09:36.374674Z"
    },
    "papermill": {
     "duration": 15.716525,
     "end_time": "2025-01-06T14:09:36.377006",
     "exception": false,
     "start_time": "2025-01-06T14:09:20.660481",
     "status": "completed"
    },
    "tags": []
   },
   "outputs": [],
   "source": [
    "# Define the reader for Surprise\n",
    "reader = Reader(rating_scale=(0.5, 5.0))\n",
    "\n",
    "# Load the dataset into Surprise format\n",
    "data = Dataset.load_from_df(ratings[['userId', 'movieId', 'rating']], reader)\n"
   ]
  },
  {
   "cell_type": "code",
   "execution_count": 6,
   "id": "2185d887",
   "metadata": {
    "execution": {
     "iopub.execute_input": "2025-01-06T14:09:36.385462Z",
     "iopub.status.busy": "2025-01-06T14:09:36.385056Z",
     "iopub.status.idle": "2025-01-06T14:10:27.106203Z",
     "shell.execute_reply": "2025-01-06T14:10:27.105246Z"
    },
    "papermill": {
     "duration": 50.727013,
     "end_time": "2025-01-06T14:10:27.107856",
     "exception": false,
     "start_time": "2025-01-06T14:09:36.380843",
     "status": "completed"
    },
    "tags": []
   },
   "outputs": [],
   "source": [
    "# Split the data into training and testing sets\n",
    "trainset, testset = train_test_split(data, test_size=0.2, random_state=42)\n"
   ]
  },
  {
   "cell_type": "code",
   "execution_count": 7,
   "id": "df99170f",
   "metadata": {
    "execution": {
     "iopub.execute_input": "2025-01-06T14:10:27.116133Z",
     "iopub.status.busy": "2025-01-06T14:10:27.115878Z",
     "iopub.status.idle": "2025-01-06T14:14:58.657172Z",
     "shell.execute_reply": "2025-01-06T14:14:58.656247Z"
    },
    "papermill": {
     "duration": 271.5494,
     "end_time": "2025-01-06T14:14:58.661417",
     "exception": false,
     "start_time": "2025-01-06T14:10:27.112017",
     "status": "completed"
    },
    "tags": []
   },
   "outputs": [
    {
     "data": {
      "text/plain": [
       "<surprise.prediction_algorithms.matrix_factorization.SVD at 0x7ebc60490520>"
      ]
     },
     "execution_count": 7,
     "metadata": {},
     "output_type": "execute_result"
    }
   ],
   "source": [
    "# Initialize the SVD model\n",
    "svd = SVD()\n",
    "\n",
    "# Train the model on the training set\n",
    "svd.fit(trainset)"
   ]
  },
  {
   "cell_type": "code",
   "execution_count": 8,
   "id": "b119963f",
   "metadata": {
    "execution": {
     "iopub.execute_input": "2025-01-06T14:14:58.669530Z",
     "iopub.status.busy": "2025-01-06T14:14:58.669256Z",
     "iopub.status.idle": "2025-01-06T14:14:59.144358Z",
     "shell.execute_reply": "2025-01-06T14:14:59.143621Z"
    },
    "papermill": {
     "duration": 0.480993,
     "end_time": "2025-01-06T14:14:59.146007",
     "exception": false,
     "start_time": "2025-01-06T14:14:58.665014",
     "status": "completed"
    },
    "tags": []
   },
   "outputs": [
    {
     "name": "stdout",
     "output_type": "stream",
     "text": [
      "User IDs: [ 1  2  3  4  5  6  7  8  9 10]\n",
      "Movie IDs: [  2  29  32  47  50 112 151 223 253 260]\n"
     ]
    }
   ],
   "source": [
    "# Check if the user_id exists in the ratings dataset\n",
    "print(f\"User IDs: {ratings['userId'].unique()[:10]}\")  # Print the first 10 user IDs\n",
    "print(f\"Movie IDs: {ratings['movieId'].unique()[:10]}\")  # Print the first 10 movie IDs\n",
    "\n",
    "# Example to verify if specific user_id and movie_id exist\n",
    "user_id = 1\n",
    "movie_id = 2\n",
    "if user_id not in ratings['userId'].unique():\n",
    "    print(f\"User ID {user_id} does not exist in the dataset.\")\n",
    "if movie_id not in ratings['movieId'].unique():\n",
    "    print(f\"Movie ID {movie_id} does not exist in the dataset.\")\n"
   ]
  },
  {
   "cell_type": "code",
   "execution_count": 9,
   "id": "5d6262be",
   "metadata": {
    "execution": {
     "iopub.execute_input": "2025-01-06T14:14:59.154737Z",
     "iopub.status.busy": "2025-01-06T14:14:59.154475Z",
     "iopub.status.idle": "2025-01-06T14:14:59.391785Z",
     "shell.execute_reply": "2025-01-06T14:14:59.390929Z"
    },
    "papermill": {
     "duration": 0.243465,
     "end_time": "2025-01-06T14:14:59.393542",
     "exception": false,
     "start_time": "2025-01-06T14:14:59.150077",
     "status": "completed"
    },
    "tags": []
   },
   "outputs": [],
   "source": [
    "# Handle new user or movie\n",
    "if user_id not in ratings['userId'].unique():\n",
    "    print(f\"User ID {user_id} is new. Use average user ratings.\")\n",
    "if movie_id not in ratings['movieId'].unique():\n",
    "    print(f\"Movie ID {movie_id} is new. Use average movie ratings.\")\n"
   ]
  },
  {
   "cell_type": "code",
   "execution_count": 10,
   "id": "a2447143",
   "metadata": {
    "execution": {
     "iopub.execute_input": "2025-01-06T14:14:59.402207Z",
     "iopub.status.busy": "2025-01-06T14:14:59.401946Z",
     "iopub.status.idle": "2025-01-06T14:20:42.089244Z",
     "shell.execute_reply": "2025-01-06T14:20:42.088433Z"
    },
    "papermill": {
     "duration": 342.69808,
     "end_time": "2025-01-06T14:20:42.095434",
     "exception": false,
     "start_time": "2025-01-06T14:14:59.397354",
     "status": "completed"
    },
    "tags": []
   },
   "outputs": [
    {
     "data": {
      "text/plain": [
       "<surprise.prediction_algorithms.matrix_factorization.SVD at 0x7ebc7fd80c40>"
      ]
     },
     "execution_count": 10,
     "metadata": {},
     "output_type": "execute_result"
    }
   ],
   "source": [
    "# Import necessary libraries\n",
    "from surprise import Dataset, Reader, SVD\n",
    "from surprise.model_selection import train_test_split\n",
    "\n",
    "# Load data into Surprise's format\n",
    "reader = Reader(rating_scale=(0.5, 5.0))\n",
    "data = Dataset.load_from_df(ratings[['userId', 'movieId', 'rating']], reader)\n",
    "\n",
    "# Split into training and test sets\n",
    "trainset, testset = train_test_split(data, test_size=0.2, random_state=42)\n",
    "\n",
    "# Train the SVD model\n",
    "svd = SVD()\n",
    "svd.fit(trainset)\n"
   ]
  },
  {
   "cell_type": "code",
   "execution_count": 11,
   "id": "fa727f5b",
   "metadata": {
    "execution": {
     "iopub.execute_input": "2025-01-06T14:20:42.105056Z",
     "iopub.status.busy": "2025-01-06T14:20:42.104775Z",
     "iopub.status.idle": "2025-01-06T14:20:42.110190Z",
     "shell.execute_reply": "2025-01-06T14:20:42.109294Z"
    },
    "papermill": {
     "duration": 0.011487,
     "end_time": "2025-01-06T14:20:42.111538",
     "exception": false,
     "start_time": "2025-01-06T14:20:42.100051",
     "status": "completed"
    },
    "tags": []
   },
   "outputs": [
    {
     "name": "stdout",
     "output_type": "stream",
     "text": [
      "Number of users in training set: 138493\n",
      "Number of items (movies) in training set: 25857\n",
      "Internal user ID: 37910, Internal movie ID: 570\n"
     ]
    }
   ],
   "source": [
    "# Check the number of users and items in the training set\n",
    "print(f\"Number of users in training set: {trainset.n_users}\")\n",
    "print(f\"Number of items (movies) in training set: {trainset.n_items}\")\n",
    "\n",
    "# Convert raw user_id and movie_id to internal IDs\n",
    "internal_uid = trainset.to_inner_uid(1)  # user_id = 1\n",
    "internal_iid = trainset.to_inner_iid(2)  # movie_id = 2\n",
    "print(f\"Internal user ID: {internal_uid}, Internal movie ID: {internal_iid}\")\n"
   ]
  },
  {
   "cell_type": "code",
   "execution_count": 12,
   "id": "c8b038a9",
   "metadata": {
    "execution": {
     "iopub.execute_input": "2025-01-06T14:20:42.120415Z",
     "iopub.status.busy": "2025-01-06T14:20:42.120101Z",
     "iopub.status.idle": "2025-01-06T14:20:42.124486Z",
     "shell.execute_reply": "2025-01-06T14:20:42.123416Z"
    },
    "papermill": {
     "duration": 0.010441,
     "end_time": "2025-01-06T14:20:42.125885",
     "exception": false,
     "start_time": "2025-01-06T14:20:42.115444",
     "status": "completed"
    },
    "tags": []
   },
   "outputs": [
    {
     "name": "stdout",
     "output_type": "stream",
     "text": [
      "Predicted Rating for User 1 and Movie 2: 3.733775644347758\n"
     ]
    }
   ],
   "source": [
    "# Predict the rating for user_id = 1 and movie_id = 2\n",
    "prediction = svd.predict(1, 2)\n",
    "print(f\"Predicted Rating for User 1 and Movie 2: {prediction.est}\")\n"
   ]
  },
  {
   "cell_type": "code",
   "execution_count": 13,
   "id": "d0dfcf92",
   "metadata": {
    "execution": {
     "iopub.execute_input": "2025-01-06T14:20:42.134827Z",
     "iopub.status.busy": "2025-01-06T14:20:42.134562Z",
     "iopub.status.idle": "2025-01-06T14:20:42.173254Z",
     "shell.execute_reply": "2025-01-06T14:20:42.172182Z"
    },
    "papermill": {
     "duration": 0.044464,
     "end_time": "2025-01-06T14:20:42.174693",
     "exception": false,
     "start_time": "2025-01-06T14:20:42.130229",
     "status": "completed"
    },
    "tags": []
   },
   "outputs": [
    {
     "name": "stdout",
     "output_type": "stream",
     "text": [
      "Average Rating for Movie ID 2: 3.2119768016904193\n"
     ]
    }
   ],
   "source": [
    "avg_rating = ratings[ratings['movieId'] == 2]['rating'].mean()\n",
    "print(f\"Average Rating for Movie ID 2: {avg_rating}\")\n"
   ]
  },
  {
   "cell_type": "code",
   "execution_count": 14,
   "id": "e7ec7b0f",
   "metadata": {
    "execution": {
     "iopub.execute_input": "2025-01-06T14:20:42.183451Z",
     "iopub.status.busy": "2025-01-06T14:20:42.183182Z",
     "iopub.status.idle": "2025-01-06T14:20:42.202590Z",
     "shell.execute_reply": "2025-01-06T14:20:42.201630Z"
    },
    "papermill": {
     "duration": 0.025085,
     "end_time": "2025-01-06T14:20:42.203891",
     "exception": false,
     "start_time": "2025-01-06T14:20:42.178806",
     "status": "completed"
    },
    "tags": []
   },
   "outputs": [
    {
     "name": "stdout",
     "output_type": "stream",
     "text": [
      "Average Rating Given by User ID 1: 3.742857142857143\n"
     ]
    }
   ],
   "source": [
    "avg_user_rating = ratings[ratings['userId'] == 1]['rating'].mean()\n",
    "print(f\"Average Rating Given by User ID 1: {avg_user_rating}\")\n"
   ]
  },
  {
   "cell_type": "code",
   "execution_count": 15,
   "id": "4f68cd15",
   "metadata": {
    "execution": {
     "iopub.execute_input": "2025-01-06T14:20:42.212847Z",
     "iopub.status.busy": "2025-01-06T14:20:42.212587Z",
     "iopub.status.idle": "2025-01-06T14:20:42.623058Z",
     "shell.execute_reply": "2025-01-06T14:20:42.622172Z"
    },
    "papermill": {
     "duration": 0.416623,
     "end_time": "2025-01-06T14:20:42.624652",
     "exception": false,
     "start_time": "2025-01-06T14:20:42.208029",
     "status": "completed"
    },
    "tags": []
   },
   "outputs": [
    {
     "name": "stdout",
     "output_type": "stream",
     "text": [
      "Top 5 Recommendations:\n",
      "Prime Suspect (1991): Predicted Rating 4.52\n",
      "Frozen Planet (2011): Predicted Rating 4.48\n",
      "Harry Potter and the Deathly Hallows: Part 2 (2011): Predicted Rating 4.46\n",
      "Harry Potter and the Deathly Hallows: Part 1 (2010): Predicted Rating 4.45\n",
      "Bleak House (2005): Predicted Rating 4.43\n"
     ]
    }
   ],
   "source": [
    "def recommend_movies(user_id, n=5):\n",
    "    # Get all unique movie IDs\n",
    "    all_movie_ids = ratings['movieId'].unique()\n",
    "    \n",
    "    # Get movies already rated by the user\n",
    "    rated_movies = ratings[ratings['userId'] == user_id]['movieId'].unique()\n",
    "    \n",
    "    # Filter out movies already rated\n",
    "    unrated_movies = [movie for movie in all_movie_ids if movie not in rated_movies]\n",
    "    \n",
    "    # Predict ratings for unrated movies\n",
    "    predictions = [svd.predict(user_id, movie_id) for movie_id in unrated_movies]\n",
    "    # Sort predictions by estimated rating\n",
    "    predictions.sort(key=lambda x: x.est, reverse=True)\n",
    "    \n",
    "    # Get top N recommendations\n",
    "    top_n = predictions[:n]\n",
    "    recommendations = [(movies[movies['movieId'] == pred.iid]['title'].values[0], round(pred.est, 2)) for pred in top_n]\n",
    "    return recommendations\n",
    "\n",
    "# Get top 5 recommendations for User 1\n",
    "recommendations = recommend_movies(user_id=1, n=5)\n",
    "print(\"Top 5 Recommendations:\")\n",
    "for title, rating in recommendations:\n",
    "    print(f\"{title}: Predicted Rating {rating}\")\n"
   ]
  },
  {
   "cell_type": "code",
   "execution_count": 16,
   "id": "f8b2a072",
   "metadata": {
    "execution": {
     "iopub.execute_input": "2025-01-06T14:20:42.634642Z",
     "iopub.status.busy": "2025-01-06T14:20:42.634390Z",
     "iopub.status.idle": "2025-01-06T14:21:03.752095Z",
     "shell.execute_reply": "2025-01-06T14:21:03.751012Z"
    },
    "papermill": {
     "duration": 21.12501,
     "end_time": "2025-01-06T14:21:03.753590",
     "exception": false,
     "start_time": "2025-01-06T14:20:42.628580",
     "status": "completed"
    },
    "tags": []
   },
   "outputs": [
    {
     "name": "stdout",
     "output_type": "stream",
     "text": [
      "Model saved as svd_model.pkl\n"
     ]
    }
   ],
   "source": [
    "import pickle\n",
    "\n",
    "# Save the trained SVD model\n",
    "with open('/kaggle/working/svd_model.pkl', 'wb') as file:\n",
    "    pickle.dump(svd, file)\n",
    "\n",
    "print(\"Model saved as svd_model.pkl\")\n"
   ]
  },
  {
   "cell_type": "code",
   "execution_count": 17,
   "id": "0d307fd6",
   "metadata": {
    "execution": {
     "iopub.execute_input": "2025-01-06T14:21:03.762655Z",
     "iopub.status.busy": "2025-01-06T14:21:03.762401Z",
     "iopub.status.idle": "2025-01-06T14:22:00.137643Z",
     "shell.execute_reply": "2025-01-06T14:22:00.136672Z"
    },
    "papermill": {
     "duration": 56.381454,
     "end_time": "2025-01-06T14:22:00.139314",
     "exception": false,
     "start_time": "2025-01-06T14:21:03.757860",
     "status": "completed"
    },
    "tags": []
   },
   "outputs": [],
   "source": [
    "movies.to_csv('/kaggle/working/movies.csv', index=False)\n",
    "ratings.to_csv('/kaggle/working/ratings.csv', index=False)\n"
   ]
  }
 ],
 "metadata": {
  "kaggle": {
   "accelerator": "gpu",
   "dataSources": [
    {
     "datasetId": 339,
     "sourceId": 77759,
     "sourceType": "datasetVersion"
    }
   ],
   "dockerImageVersionId": 30823,
   "isGpuEnabled": true,
   "isInternetEnabled": true,
   "language": "python",
   "sourceType": "notebook"
  },
  "kernelspec": {
   "display_name": "Python 3",
   "language": "python",
   "name": "python3"
  },
  "language_info": {
   "codemirror_mode": {
    "name": "ipython",
    "version": 3
   },
   "file_extension": ".py",
   "mimetype": "text/x-python",
   "name": "python",
   "nbconvert_exporter": "python",
   "pygments_lexer": "ipython3",
   "version": "3.10.12"
  },
  "papermill": {
   "default_parameters": {},
   "duration": 793.332891,
   "end_time": "2025-01-06T14:22:03.865992",
   "environment_variables": {},
   "exception": null,
   "input_path": "__notebook__.ipynb",
   "output_path": "__notebook__.ipynb",
   "parameters": {},
   "start_time": "2025-01-06T14:08:50.533101",
   "version": "2.6.0"
  }
 },
 "nbformat": 4,
 "nbformat_minor": 5
}
